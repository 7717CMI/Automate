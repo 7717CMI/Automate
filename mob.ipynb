{
 "cells": [
  {
   "cell_type": "code",
   "execution_count": 1,
   "id": "95be3b20",
   "metadata": {},
   "outputs": [
    {
     "ename": "TypeError",
     "evalue": "WebDriver.__init__() got an unexpected keyword argument 'executable_path'",
     "output_type": "error",
     "traceback": [
      "\u001b[31m---------------------------------------------------------------------------\u001b[39m",
      "\u001b[31mTypeError\u001b[39m                                 Traceback (most recent call last)",
      "\u001b[36mCell\u001b[39m\u001b[36m \u001b[39m\u001b[32mIn[1]\u001b[39m\u001b[32m, line 6\u001b[39m\n\u001b[32m      3\u001b[39m DRIVER_PATH = \u001b[33m'\u001b[39m\u001b[33m/path/to/chromedriver\u001b[39m\u001b[33m'\u001b[39m\n\u001b[32m      5\u001b[39m \u001b[38;5;66;03m# Set up Chrome WebDriver\u001b[39;00m\n\u001b[32m----> \u001b[39m\u001b[32m6\u001b[39m driver = \u001b[43mwebdriver\u001b[49m\u001b[43m.\u001b[49m\u001b[43mChrome\u001b[49m\u001b[43m(\u001b[49m\u001b[43mexecutable_path\u001b[49m\u001b[43m=\u001b[49m\u001b[43mDRIVER_PATH\u001b[49m\u001b[43m)\u001b[49m\n\u001b[32m      8\u001b[39m \u001b[38;5;66;03m# Navigate to Hacker News\u001b[39;00m\n\u001b[32m      9\u001b[39m driver.get(\u001b[33m\"\u001b[39m\u001b[33mhttps://news.ycombinator.com/\u001b[39m\u001b[33m\"\u001b[39m)\n",
      "\u001b[31mTypeError\u001b[39m: WebDriver.__init__() got an unexpected keyword argument 'executable_path'"
     ]
    }
   ],
   "source": [
    "from selenium import webdriver\n",
    "\n",
    "DRIVER_PATH = '/path/to/chromedriver'\n",
    "\n",
    "# Set up Chrome WebDriver\n",
    "driver = webdriver.Chrome(executable_path=DRIVER_PATH)\n",
    "\n",
    "# Navigate to Hacker News\n",
    "driver.get(\"https://news.ycombinator.com/\")\n",
    "\n",
    "# Locate the third 'td' of the first 'tr' which contains the article's title and link\n",
    "title_element = driver.find_element_by_xpath('//tr[@class=\"athing\"]/td[3]/a')\n",
    "\n",
    "# Extract and print the text from the located WebElement\n",
    "print(title_element.text)\n",
    "\n",
    "# Click on the link to navigate to the article's page\n",
    "title_element.click()\n",
    "\n",
    "# Optionally, wait for the new page to load and perform actions there\n",
    "# For demonstration, let's print the current URL after clicking\n",
    "print(driver.current_url)\n",
    "\n",
    "# Close the driver\n",
    "driver.quit()\n",
    "T"
   ]
  },
  {
   "cell_type": "code",
   "execution_count": 2,
   "id": "79a8476d",
   "metadata": {},
   "outputs": [
    {
     "name": "stdout",
     "output_type": "stream",
     "text": [
      "Requirement already satisfied: selenium in c:\\users\\vishwas\\documents\\python\\backend\\ding\\lib\\site-packages (4.33.0)\n",
      "Requirement already satisfied: urllib3~=2.4.0 in c:\\users\\vishwas\\documents\\python\\backend\\ding\\lib\\site-packages (from urllib3[socks]~=2.4.0->selenium) (2.4.0)\n",
      "Requirement already satisfied: trio~=0.30.0 in c:\\users\\vishwas\\documents\\python\\backend\\ding\\lib\\site-packages (from selenium) (0.30.0)\n",
      "Requirement already satisfied: trio-websocket~=0.12.2 in c:\\users\\vishwas\\documents\\python\\backend\\ding\\lib\\site-packages (from selenium) (0.12.2)\n",
      "Requirement already satisfied: certifi>=2025.4.26 in c:\\users\\vishwas\\documents\\python\\backend\\ding\\lib\\site-packages (from selenium) (2025.6.15)\n",
      "Requirement already satisfied: typing_extensions~=4.13.2 in c:\\users\\vishwas\\documents\\python\\backend\\ding\\lib\\site-packages (from selenium) (4.13.2)\n",
      "Requirement already satisfied: websocket-client~=1.8.0 in c:\\users\\vishwas\\documents\\python\\backend\\ding\\lib\\site-packages (from selenium) (1.8.0)\n",
      "Requirement already satisfied: attrs>=23.2.0 in c:\\users\\vishwas\\documents\\python\\backend\\ding\\lib\\site-packages (from trio~=0.30.0->selenium) (25.3.0)\n",
      "Requirement already satisfied: sortedcontainers in c:\\users\\vishwas\\documents\\python\\backend\\ding\\lib\\site-packages (from trio~=0.30.0->selenium) (2.4.0)\n",
      "Requirement already satisfied: idna in c:\\users\\vishwas\\documents\\python\\backend\\ding\\lib\\site-packages (from trio~=0.30.0->selenium) (3.10)\n",
      "Requirement already satisfied: outcome in c:\\users\\vishwas\\documents\\python\\backend\\ding\\lib\\site-packages (from trio~=0.30.0->selenium) (1.3.0.post0)\n",
      "Requirement already satisfied: sniffio>=1.3.0 in c:\\users\\vishwas\\documents\\python\\backend\\ding\\lib\\site-packages (from trio~=0.30.0->selenium) (1.3.1)\n",
      "Requirement already satisfied: cffi>=1.14 in c:\\users\\vishwas\\documents\\python\\backend\\ding\\lib\\site-packages (from trio~=0.30.0->selenium) (1.17.1)\n",
      "Requirement already satisfied: wsproto>=0.14 in c:\\users\\vishwas\\documents\\python\\backend\\ding\\lib\\site-packages (from trio-websocket~=0.12.2->selenium) (1.2.0)\n",
      "Requirement already satisfied: pysocks!=1.5.7,<2.0,>=1.5.6 in c:\\users\\vishwas\\documents\\python\\backend\\ding\\lib\\site-packages (from urllib3[socks]~=2.4.0->selenium) (1.7.1)\n",
      "Requirement already satisfied: pycparser in c:\\users\\vishwas\\documents\\python\\backend\\ding\\lib\\site-packages (from cffi>=1.14->trio~=0.30.0->selenium) (2.22)\n",
      "Requirement already satisfied: h11<1,>=0.9.0 in c:\\users\\vishwas\\documents\\python\\backend\\ding\\lib\\site-packages (from wsproto>=0.14->trio-websocket~=0.12.2->selenium) (0.16.0)\n",
      "Note: you may need to restart the kernel to use updated packages.\n"
     ]
    }
   ],
   "source": [
    "pip install selenium"
   ]
  },
  {
   "cell_type": "code",
   "execution_count": 3,
   "id": "ebd3aff0",
   "metadata": {},
   "outputs": [],
   "source": [
    "from selenium import webdriver\n",
    "from selenium.webdriver.chrome.service import Service\n",
    "from webdriver_manager.chrome import ChromeDriverManager\n",
    "\n",
    "service = Service(ChromeDriverManager().install())\n",
    "driver = webdriver.Chrome(service=service)"
   ]
  },
  {
   "cell_type": "code",
   "execution_count": null,
   "id": "ed76b012",
   "metadata": {},
   "outputs": [],
   "source": []
  },
  {
   "cell_type": "code",
   "execution_count": 4,
   "id": "eb965dcc",
   "metadata": {},
   "outputs": [
    {
     "ename": "AttributeError",
     "evalue": "'WebDriver' object has no attribute 'find_element_by_xpath'",
     "output_type": "error",
     "traceback": [
      "\u001b[31m---------------------------------------------------------------------------\u001b[39m",
      "\u001b[31mAttributeError\u001b[39m                            Traceback (most recent call last)",
      "\u001b[36mCell\u001b[39m\u001b[36m \u001b[39m\u001b[32mIn[4]\u001b[39m\u001b[32m, line 13\u001b[39m\n\u001b[32m     10\u001b[39m driver.get(\u001b[33m\"\u001b[39m\u001b[33mhttps://news.ycombinator.com/\u001b[39m\u001b[33m\"\u001b[39m)\n\u001b[32m     12\u001b[39m \u001b[38;5;66;03m# Locate the third 'td' of the first 'tr' which contains the article's title and link\u001b[39;00m\n\u001b[32m---> \u001b[39m\u001b[32m13\u001b[39m title_element = \u001b[43mdriver\u001b[49m\u001b[43m.\u001b[49m\u001b[43mfind_element_by_xpath\u001b[49m(\u001b[33m'\u001b[39m\u001b[33m//tr[@class=\u001b[39m\u001b[33m\"\u001b[39m\u001b[33mathing\u001b[39m\u001b[33m\"\u001b[39m\u001b[33m]/td[3]/a\u001b[39m\u001b[33m'\u001b[39m)\n\u001b[32m     15\u001b[39m \u001b[38;5;66;03m# Extract and print the text from the located WebElement\u001b[39;00m\n\u001b[32m     16\u001b[39m \u001b[38;5;28mprint\u001b[39m(title_element.text)\n",
      "\u001b[31mAttributeError\u001b[39m: 'WebDriver' object has no attribute 'find_element_by_xpath'"
     ]
    }
   ],
   "source": [
    "from selenium import webdriver\n",
    "from selenium.webdriver.chrome.service import Service\n",
    "from webdriver_manager.chrome import ChromeDriverManager\n",
    "\n",
    "# Set up Chrome WebDriver using webdriver_manager\n",
    "service = Service(ChromeDriverManager().install())\n",
    "driver = webdriver.Chrome(service=service)\n",
    "\n",
    "# Navigate to Hacker News\n",
    "driver.get(\"https://news.ycombinator.com/\")\n",
    "\n",
    "# Locate the third 'td' of the first 'tr' which contains the article's title and link\n",
    "title_element = driver.find_element_by_xpath('//tr[@class=\"athing\"]/td[3]/a')\n",
    "\n",
    "# Extract and print the text from the located WebElement\n",
    "print(title_element.text)\n",
    "\n",
    "# Click on the link to navigate to the article's page\n",
    "title_element.click()\n",
    "\n",
    "# Optionally, wait for the new page to load and perform actions there\n",
    "# For demonstration, let's print the current URL after clicking\n",
    "print(driver.current_url)\n",
    "\n",
    "# Close the driver\n",
    "driver.quit()\n"
   ]
  },
  {
   "cell_type": "code",
   "execution_count": 5,
   "id": "3bfaac92",
   "metadata": {},
   "outputs": [
    {
     "name": "stdout",
     "output_type": "stream",
     "text": [
      "C:\\Users\\vishwas\\.wdm\\drivers\\chromedriver\\win64\\137.0.7151.119\\chromedriver-win32/chromedriver.exe\n"
     ]
    }
   ],
   "source": [
    "from webdriver_manager.chrome import ChromeDriverManager\n",
    "print(ChromeDriverManager().install())"
   ]
  },
  {
   "cell_type": "code",
   "execution_count": null,
   "id": "df275250",
   "metadata": {},
   "outputs": [],
   "source": []
  }
 ],
 "metadata": {
  "kernelspec": {
   "display_name": "ding",
   "language": "python",
   "name": "python3"
  },
  "language_info": {
   "codemirror_mode": {
    "name": "ipython",
    "version": 3
   },
   "file_extension": ".py",
   "mimetype": "text/x-python",
   "name": "python",
   "nbconvert_exporter": "python",
   "pygments_lexer": "ipython3",
   "version": "3.13.5"
  }
 },
 "nbformat": 4,
 "nbformat_minor": 5
}
