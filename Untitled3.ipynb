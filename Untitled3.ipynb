{
  "nbformat": 4,
  "nbformat_minor": 0,
  "metadata": {
    "colab": {
      "provenance": [],
      "authorship_tag": "ABX9TyO9au48mM8GMXl3zLw8FrNv",
      "include_colab_link": true
    },
    "kernelspec": {
      "name": "python3",
      "display_name": "Python 3"
    },
    "language_info": {
      "name": "python"
    }
  },
  "cells": [
    {
      "cell_type": "markdown",
      "metadata": {
        "id": "view-in-github",
        "colab_type": "text"
      },
      "source": [
        "<a href=\"https://colab.research.google.com/github/7717CMI/Automate/blob/main/Untitled3.ipynb\" target=\"_parent\"><img src=\"https://colab.research.google.com/assets/colab-badge.svg\" alt=\"Open In Colab\"/></a>"
      ]
    },
    {
      "cell_type": "code",
      "execution_count": null,
      "metadata": {
        "id": "2lcnYJ7L9ojN"
      },
      "outputs": [],
      "source": [
        "from selenium import webdriver\n",
        "from selenium.webdriver.chrome.service import Service\n",
        "from selenium.webdriver.chrome.options import Options\n",
        "from selenium.webdriver.common.by import By\n",
        "from selenium.webdriver.support.ui import WebDriverWait\n",
        "from selenium.webdriver.support import expected_conditions as EC\n",
        "import time\n",
        "import random\n",
        "from fake_useragent import UserAgent\n",
        "\n",
        "# Correct path to chromedriver.exe\n",
        "chromedriver_path = driver_path  # Replace with your actual driver path\n",
        "\n",
        "# Create ChromeOptions instance to modify browser behavior\n",
        "options = Options()\n",
        "\n",
        "# Set a custom window size (monitor size) to avoid detection\n",
        "options.add_argument(\"window-size=617x407\")\n",
        "\n",
        "# Use fake_useragent to get a random User-Agent string\n",
        "ua = UserAgent()\n",
        "user_agent = ua.random\n",
        "print(user_agent)\n",
        "\n",
        "# Set the random User-Agent in Chrome options\n",
        "options.add_argument(f'--user-agent={user_agent}')\n",
        "\n",
        "# Initialize the WebDriver with the options\n",
        "cService = Service(executable_path=chromedriver_path)\n",
        "driver = webdriver.Chrome(service=cService, options=options)\n",
        "\n",
        "# Open the webpage\n",
        "driver.get('https://trends.google.com/trends/')\n",
        "\n",
        "# Interact with elements on the page as usual\n",
        "try:\n",
        "    # Wait for and click the explore box\n",
        "    explore_box = WebDriverWait(driver, 20).until(\n",
        "        EC.element_to_be_clickable((By.XPATH, '//*[@id=\"i4\"]'))\n",
        "    )\n",
        "    explore_box.clear()\n",
        "    explore_box.send_keys(\"Machine learning\")\n",
        "\n",
        "    # Simulate human-like delay\n",
        "    time.sleep(random.uniform(5, 17))\n",
        "\n",
        "    # Wait for and click the explore button\n",
        "    explore_button = WebDriverWait(driver, 30).until(\n",
        "        EC.element_to_be_clickable((By.XPATH, '//*[@id=\"yDmH0d\"]/c-wiz/div/div[2]/div[4]/div[1]/c-wiz[1]/div/div[1]/div[3]/div/div[2]/div[3]/div/button/span[6]'))\n",
        "    )\n",
        "    explore_button.click()\n",
        "\n",
        "    # Wait for and interact with the dropdown menu\n",
        "    dropdown = WebDriverWait(driver, 20).until(\n",
        "        EC.element_to_be_clickable((By.XPATH, '//*[@id=\"compare-pickers-wrapper\"]/div/hierarchy-picker[1]/ng-include/div[1]'))\n",
        "    )\n",
        "    dropdown.click()\n",
        "\n",
        "    dropdown1 = WebDriverWait(driver, 20).until(\n",
        "        EC.element_to_be_clickable((By.XPATH, '//*[@id=\"input-8\"]'))\n",
        "    )\n",
        "    # Simulate human-like delay\n",
        "    time.sleep(random.uniform(2, 5))\n",
        "    dropdown1.send_keys(\"Worldwide\")\n",
        "\n",
        "finally:\n",
        "    # Close the browser after some time (optional)\n",
        "    time.sleep(10)  # Wait for 10 seconds to observe the interaction\n",
        "    driver.quit()\n"
      ]
    }
  ]
}