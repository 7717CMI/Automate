{
  "nbformat": 4,
  "nbformat_minor": 0,
  "metadata": {
    "colab": {
      "provenance": [],
      "authorship_tag": "ABX9TyNYy+HROc3cOb6eZ6iNvItg",
      "include_colab_link": true
    },
    "kernelspec": {
      "name": "python3",
      "display_name": "Python 3"
    },
    "language_info": {
      "name": "python"
    }
  },
  "cells": [
    {
      "cell_type": "markdown",
      "metadata": {
        "id": "view-in-github",
        "colab_type": "text"
      },
      "source": [
        "<a href=\"https://colab.research.google.com/github/7717CMI/Automate/blob/main/WordocCode.ipynb\" target=\"_parent\"><img src=\"https://colab.research.google.com/assets/colab-badge.svg\" alt=\"Open In Colab\"/></a>"
      ]
    },
    {
      "cell_type": "code",
      "execution_count": null,
      "metadata": {
        "id": "IaNh4VkVRvFx"
      },
      "outputs": [],
      "source": [
        "from docx import Document\n",
        "\n",
        "# Load the DOCX file\n",
        "doc_path = 'ROB_Smartphone.docx'\n",
        "doc = Document(doc_path)\n",
        "\n",
        "# Extract all text from the document and store it in a string\n",
        "saved = \"\\n\".join([para.text for para in doc.paragraphs])\n",
        "\n",
        "# Print the content stored in 'saved'\n",
        "print(saved)\n",
        "\n",
        "\n",
        "first_saved = saved.split()[-9]\n",
        "print(first_saved)\n",
        "\n",
        "# useful: index from 20 to -9\n",
        "\n",
        "\n",
        "start_phrase = \"Global Smartphone Market\"  # The start of the text you're looking for\n",
        "end_phrase = \"Version 5\"  # The end of the text you're looking for\n",
        "\n",
        "start_index = saved.find(start_phrase)  # Find the index where the start_phrase appears\n",
        "end_index = saved.find(end_phrase)  # Find the index where the end_phrase appears\n",
        "\n",
        "# Extract the chunk of text between start and end\n",
        "if start_index != -1 and end_index != -1:\n",
        "    chunk = saved[start_index:end_index]\n",
        "    print(chunk)\n",
        "else:\n",
        "    print(\"Text not found.\")\n",
        "\n",
        "\n",
        "# Split the string into words\n",
        "first_word = chunk.split()[-2]\n",
        "\n",
        "\n",
        "second = chunk.split()[4]\n",
        "print(second)\n",
        "\n",
        "print(\"First word in the saved string:\", first_word)\n",
        "\n",
        "\n",
        "# Split the chunk into words\n",
        "split_chunk = chunk.split()\n",
        "\n",
        "# Extract the text between the 3rd word (index 2) and the second-to-last word (index -2)\n",
        "final_text = \" \".join(split_chunk[2:-1])\n",
        "\n",
        "# Print the extracted text\n",
        "print(final_text)\n"
      ]
    }
  ]
}