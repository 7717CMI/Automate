#cell 2

from selenium import webdriver
from selenium.webdriver.chrome.service import Service
from selenium.webdriver.common.by import By
from selenium.webdriver.chrome.options import Options
from selenium.webdriver.support.ui import WebDriverWait
from selenium.webdriver.support import expected_conditions as EC

# Correct path to chromedriver.exe

chromedriver_path = driver_path
options = Options()
options.add_argument("--start-maximized")  # Open browser maximized

cService = Service(executable_path=chromedriver_path)
driver = webdriver.Chrome(service=cService, options=options)
driver.get('https://www.openpr.com/')

# Wait for and click the reject cookies button
reject = WebDriverWait(driver, 10).until(
    EC.element_to_be_clickable((By.XPATH, '//*[@id="cmpbntnotxt"]'))
)
reject.click()

# Wait for and click the submit button
submit = WebDriverWait(driver, 10).until(
    EC.element_to_be_clickable((By.XPATH, '//*[@id="navbarText"]/ul/li[3]/a'))
)
submit.click()

# Wait for the input box, clear it, and send text
input_box = WebDriverWait(driver, 10).until(
    EC.presence_of_element_located((By.XPATH, '//*[@id="code"]'))
)
input_box.clear()
input_box.send_keys("AGC-2025-MBJEE9")  # Replace with your desired input

# Wait for and click the final submit button
submit2 = WebDriverWait(driver, 10).until(
    EC.element_to_be_clickable((By.XPATH, '//*[@id="main"]/div/div/div[4]/div/form/button'))
)
submit2.click()
name = WebDriverWait(driver, 10).until(
    EC.presence_of_element_located((By.XPATH, '//*[@id="formular"]/div[2]/div[1]/div/input'))
)
name.clear()
name.send_keys("Vishwas tiwari")

email = WebDriverWait(driver, 10).until(
    EC.presence_of_element_located((By.XPATH, '//*[@id="formular"]/div[2]/div[2]/div/input'))
)
email.clear()
email.send_keys("vishwas@gmail.com")

pr_agency = WebDriverWait(driver, 10).until(
    EC.presence_of_element_located((By.XPATH, '//*[@id="formular"]/div[2]/div[3]/div/input')))

pr_agency.clear()

pr_agency.send_keys("Vishwas tiwari")
number = WebDriverWait(driver, 10).until(
    EC.presence_of_element_located((By.XPATH, '//*[@id="formular"]/div[2]/div[4]/div/input')))
number.clear()
number.send_keys("1234567890")
ComName = WebDriverWait(driver, 10).until(
    EC.presence_of_element_located((By.XPATH, '//*[@id="archivnmfield"]')))

ComName.clear()
ComName.send_keys("coherent")
s1 = WebDriverWait(driver, 10).until(
    EC.presence_of_element_located((By.XPATH, '//*[@id="popup-archiv"]/div/a[1]')))
s1.click()


Category = WebDriverWait(driver, 10).until(EC.presence_of_element_located((By.XPATH, '//*[@id="formular"]/div[2]/div[6]/div/select')))
Category.clear()    
Category.send_keys("Arts & Culture")

title = WebDriverWait(driver, 10).until(
    EC.presence_of_element_located((By.XPATH, '//*[@id="formular"]/div[2]/div[7]/div/input')))
title.clear()
title.send_keys("Test title")
text= WebDriverWait(driver, 10).until(
    EC.presence_of_element_located((By.XPATH, '//*[@id="inhalt"]')))
text.clear()
text.send_keys("This is a test text for the press release submission.")
about = WebDriverWait(driver, 10).until(
    EC.presence_of_element_located((By.XPATH, '//*[@id="formular"]/div[2]/div[9]/div/textarea')))  
about.clear()
about.send_keys("This is a test about section for the press release submission.")
address = WebDriverWait(driver, 10).until(
    EC.presence_of_element_located((By.XPATH, '//*[@id="formular"]/div[2]/div[10]/div/textarea')))
address.clear()
address.send_keys("123 Test Street, Test City, Test Country")
image= WebDriverWait(driver, 10).until(
    EC.presence_of_element_located((By.XPATH, '//*[@id="bild"]')))   
image.clear()
image.send_keys("sendur.jpg")  # Replace with the path to your 

caption = WebDriverWait(driver, 10).until(
    EC.presence_of_element_located((By.XPATH, '//*[@id="formular"]/div[2]/div[12]/div/input'))) 
caption.clear()
caption.send_keys("This is a test caption for the image.")
notes = WebDriverWait(driver, 10).until(
    EC.presence_of_element_located((By.XPATH,'//*[@id="formular"]/div[2]/div[13]/div/textarea')))
notes.clear()   
notes.send_keys("This is a test notes section for the press release submission.")



tick1 = WebDriverWait(driver, 10).until(
    EC.element_to_be_clickable((By.XPATH, '//*[@id="input-agb"]')))
tick1.click()
tick2 = WebDriverWait(driver, 10).until(
    EC.element_to_be_clickable((By.XPATH, '//*[@id="input-ds"]')))
tick2.click()
