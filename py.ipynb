{
 "cells": [
  {
   "cell_type": "code",
   "execution_count": 1,
   "id": "7872f1d5",
   "metadata": {},
   "outputs": [
    {
     "name": "stdout",
     "output_type": "stream",
     "text": [
      "hey\n"
     ]
    }
   ],
   "source": [
    "print(\"hey\")"
   ]
  },
  {
   "cell_type": "code",
   "execution_count": 1,
   "id": "295dc998",
   "metadata": {},
   "outputs": [
    {
     "name": "stdout",
     "output_type": "stream",
     "text": [
      "Requirement already satisfied: webdriver-manager in c:\\users\\vishwas\\documents\\python\\backend\\ding\\lib\\site-packages (4.0.2)\n",
      "Requirement already satisfied: requests in c:\\users\\vishwas\\documents\\python\\backend\\ding\\lib\\site-packages (from webdriver-manager) (2.32.4)\n",
      "Requirement already satisfied: python-dotenv in c:\\users\\vishwas\\documents\\python\\backend\\ding\\lib\\site-packages (from webdriver-manager) (1.1.0)\n",
      "Requirement already satisfied: packaging in c:\\users\\vishwas\\documents\\python\\backend\\ding\\lib\\site-packages (from webdriver-manager) (25.0)\n",
      "Requirement already satisfied: charset_normalizer<4,>=2 in c:\\users\\vishwas\\documents\\python\\backend\\ding\\lib\\site-packages (from requests->webdriver-manager) (3.4.2)\n",
      "Requirement already satisfied: idna<4,>=2.5 in c:\\users\\vishwas\\documents\\python\\backend\\ding\\lib\\site-packages (from requests->webdriver-manager) (3.10)\n",
      "Requirement already satisfied: urllib3<3,>=1.21.1 in c:\\users\\vishwas\\documents\\python\\backend\\ding\\lib\\site-packages (from requests->webdriver-manager) (2.4.0)\n",
      "Requirement already satisfied: certifi>=2017.4.17 in c:\\users\\vishwas\\documents\\python\\backend\\ding\\lib\\site-packages (from requests->webdriver-manager) (2025.6.15)\n",
      "Note: you may need to restart the kernel to use updated packages.\n"
     ]
    }
   ],
   "source": [
    "pip install webdriver-manager\n"
   ]
  },
  {
   "cell_type": "code",
   "execution_count": 3,
   "id": "d6cbee81",
   "metadata": {},
   "outputs": [
    {
     "name": "stdout",
     "output_type": "stream",
     "text": [
      "Name: webdriver-manager\n",
      "Version: 4.0.2\n",
      "Summary: Library provides the way to automatically manage drivers for different browsers\n",
      "Home-page: https://github.com/SergeyPirogov/webdriver_manager\n",
      "Author: Sergey Pirogov\n",
      "Author-email: automationremarks@gmail.com\n",
      "License: \n",
      "Location: c:\\Users\\vishwas\\Documents\\python\\backend\\ding\\Lib\\site-packages\n",
      "Requires: packaging, python-dotenv, requests\n",
      "Required-by: \n",
      "Note: you may need to restart the kernel to use updated packages.\n"
     ]
    }
   ],
   "source": [
    "pip show webdriver-manager"
   ]
  },
  {
   "cell_type": "code",
   "execution_count": 4,
   "id": "dff848da",
   "metadata": {},
   "outputs": [],
   "source": [
    "from selenium import webdriver\n",
    "from selenium.webdriver.chrome.options import Options\n",
    "from selenium.webdriver.chrome.service import Service\n",
    "from selenium.webdriver.common.by import By\n",
    "from selenium.webdriver.common.keys import Keys\n",
    "from webdriver_manager.chrome import ChromeDriverManager\n",
    "import time\n"
   ]
  },
  {
   "cell_type": "code",
   "execution_count": 14,
   "id": "37563274",
   "metadata": {},
   "outputs": [
    {
     "ename": "TimeoutException",
     "evalue": "Message: \nStacktrace:\n\tGetHandleVerifier [0x0xc63b03+62899]\n\tGetHandleVerifier [0x0xc63b44+62964]\n\t(No symbol) [0x0xa910f3]\n\t(No symbol) [0x0xad980e]\n\t(No symbol) [0x0xad9bab]\n\t(No symbol) [0x0xb225c2]\n\t(No symbol) [0x0xafe554]\n\t(No symbol) [0x0xb1fd81]\n\t(No symbol) [0x0xafe306]\n\t(No symbol) [0x0xacd670]\n\t(No symbol) [0x0xace4e4]\n\tGetHandleVerifier [0x0xec4793+2556483]\n\tGetHandleVerifier [0x0xebfd02+2537394]\n\tGetHandleVerifier [0x0xc8a2fa+220586]\n\tGetHandleVerifier [0x0xc7aae8+157080]\n\tGetHandleVerifier [0x0xc8141d+184013]\n\tGetHandleVerifier [0x0xc6ba68+95512]\n\tGetHandleVerifier [0x0xc6bc10+95936]\n\tGetHandleVerifier [0x0xc56b5a+9738]\n\tBaseThreadInitThunk [0x0x75edfcc9+25]\n\tRtlGetAppContainerNamedObjectPath [0x0x77bf82ae+286]\n\tRtlGetAppContainerNamedObjectPath [0x0x77bf827e+238]\n",
     "output_type": "error",
     "traceback": [
      "\u001b[31m---------------------------------------------------------------------------\u001b[39m",
      "\u001b[31mTimeoutException\u001b[39m                          Traceback (most recent call last)",
      "\u001b[36mCell\u001b[39m\u001b[36m \u001b[39m\u001b[32mIn[14]\u001b[39m\u001b[32m, line 65\u001b[39m\n\u001b[32m     62\u001b[39m         driver.quit()\n\u001b[32m     64\u001b[39m \u001b[38;5;66;03m# Run the automation function with a keyword of your choice\u001b[39;00m\n\u001b[32m---> \u001b[39m\u001b[32m65\u001b[39m \u001b[43mautomate_google_trends\u001b[49m\u001b[43m(\u001b[49m\u001b[33;43m\"\u001b[39;49m\u001b[33;43mmachine learning\u001b[39;49m\u001b[33;43m\"\u001b[39;49m\u001b[43m)\u001b[49m  \u001b[38;5;66;03m# Example keyword\u001b[39;00m\n",
      "\u001b[36mCell\u001b[39m\u001b[36m \u001b[39m\u001b[32mIn[14]\u001b[39m\u001b[32m, line 30\u001b[39m, in \u001b[36mautomate_google_trends\u001b[39m\u001b[34m(keyword)\u001b[39m\n\u001b[32m     28\u001b[39m wait = WebDriverWait(driver, \u001b[32m20\u001b[39m)  \u001b[38;5;66;03m# Wait up to 20 seconds for the element\u001b[39;00m\n\u001b[32m     29\u001b[39m \u001b[38;5;66;03m# Fixed XPath: Correcting double quotes\u001b[39;00m\n\u001b[32m---> \u001b[39m\u001b[32m30\u001b[39m search_bar = \u001b[43mwait\u001b[49m\u001b[43m.\u001b[49m\u001b[43muntil\u001b[49m\u001b[43m(\u001b[49m\u001b[43mEC\u001b[49m\u001b[43m.\u001b[49m\u001b[43mpresence_of_element_located\u001b[49m\u001b[43m(\u001b[49m\u001b[43m(\u001b[49m\u001b[43mBy\u001b[49m\u001b[43m.\u001b[49m\u001b[43mXPATH\u001b[49m\u001b[43m,\u001b[49m\u001b[43m \u001b[49m\u001b[33;43m\"\u001b[39;49m\u001b[33;43m//input[@aria-label=\u001b[39;49m\u001b[33;43m'\u001b[39;49m\u001b[33;43mSearch Google Trends\u001b[39;49m\u001b[33;43m'\u001b[39;49m\u001b[33;43m]\u001b[39;49m\u001b[33;43m\"\u001b[39;49m\u001b[43m)\u001b[49m\u001b[43m)\u001b[49m\u001b[43m)\u001b[49m\n\u001b[32m     32\u001b[39m \u001b[38;5;66;03m# Enter the keyword and submit the search\u001b[39;00m\n\u001b[32m     33\u001b[39m search_bar.send_keys(keyword)\n",
      "\u001b[36mFile \u001b[39m\u001b[32mc:\\Users\\vishwas\\Documents\\python\\backend\\ding\\Lib\\site-packages\\selenium\\webdriver\\support\\wait.py:138\u001b[39m, in \u001b[36mWebDriverWait.until\u001b[39m\u001b[34m(self, method, message)\u001b[39m\n\u001b[32m    136\u001b[39m         \u001b[38;5;28;01mbreak\u001b[39;00m\n\u001b[32m    137\u001b[39m     time.sleep(\u001b[38;5;28mself\u001b[39m._poll)\n\u001b[32m--> \u001b[39m\u001b[32m138\u001b[39m \u001b[38;5;28;01mraise\u001b[39;00m TimeoutException(message, screen, stacktrace)\n",
      "\u001b[31mTimeoutException\u001b[39m: Message: \nStacktrace:\n\tGetHandleVerifier [0x0xc63b03+62899]\n\tGetHandleVerifier [0x0xc63b44+62964]\n\t(No symbol) [0x0xa910f3]\n\t(No symbol) [0x0xad980e]\n\t(No symbol) [0x0xad9bab]\n\t(No symbol) [0x0xb225c2]\n\t(No symbol) [0x0xafe554]\n\t(No symbol) [0x0xb1fd81]\n\t(No symbol) [0x0xafe306]\n\t(No symbol) [0x0xacd670]\n\t(No symbol) [0x0xace4e4]\n\tGetHandleVerifier [0x0xec4793+2556483]\n\tGetHandleVerifier [0x0xebfd02+2537394]\n\tGetHandleVerifier [0x0xc8a2fa+220586]\n\tGetHandleVerifier [0x0xc7aae8+157080]\n\tGetHandleVerifier [0x0xc8141d+184013]\n\tGetHandleVerifier [0x0xc6ba68+95512]\n\tGetHandleVerifier [0x0xc6bc10+95936]\n\tGetHandleVerifier [0x0xc56b5a+9738]\n\tBaseThreadInitThunk [0x0x75edfcc9+25]\n\tRtlGetAppContainerNamedObjectPath [0x0x77bf82ae+286]\n\tRtlGetAppContainerNamedObjectPath [0x0x77bf827e+238]\n"
     ]
    }
   ],
   "source": [
    "from selenium import webdriver\n",
    "from selenium.webdriver.chrome.options import Options\n",
    "from selenium.webdriver.chrome.service import Service\n",
    "from selenium.webdriver.common.by import By\n",
    "from selenium.webdriver.common.keys import Keys\n",
    "from webdriver_manager.chrome import ChromeDriverManager\n",
    "from selenium.webdriver.support.ui import WebDriverWait\n",
    "from selenium.webdriver.support import expected_conditions as EC\n",
    "import time\n",
    "\n",
    "# Function to automate Google Trends interaction and extract keyword trends\n",
    "def automate_google_trends(keyword):\n",
    "    # Set up Chrome options for headless mode (ideal for environments like Google Colab)\n",
    "    options = Options()\n",
    "    options.add_argument(\"--headless\")  # Run in headless mode (no GUI)\n",
    "    options.add_argument(\"--no-sandbox\")\n",
    "    options.add_argument(\"--disable-dev-shm-usage\")\n",
    "\n",
    "    # Initialize WebDriver (using WebDriver Manager for easy ChromeDriver setup)\n",
    "    service = Service(ChromeDriverManager().install())\n",
    "    driver = webdriver.Chrome(service=service, options=options)\n",
    "\n",
    "    try:\n",
    "        # Step 1: Navigate to Google Trends homepage\n",
    "        driver.get(\"https://trends.google.com/trends/\")\n",
    "\n",
    "        # Step 2: Wait for the search bar to be available and enter the keyword\n",
    "        wait = WebDriverWait(driver, 20)  # Wait up to 20 seconds for the element\n",
    "        # Fixed XPath: Correcting double quotes\n",
    "        search_bar = wait.until(EC.presence_of_element_located((By.XPATH, \"//input[@aria-label='Search Google Trends']\")))\n",
    "\n",
    "        # Enter the keyword and submit the search\n",
    "        search_bar.send_keys(keyword)\n",
    "        search_bar.send_keys(Keys.RETURN)  # Submit the search\n",
    "\n",
    "        # Step 3: Wait for the results to load (adjust the time if needed)\n",
    "        time.sleep(5)\n",
    "\n",
    "        # Step 4: Click on the Explore button (using the XPath you provided)\n",
    "        explore_button = driver.find_element(By.XPATH, \"//button[@aria-label='Explore']\")\n",
    "        explore_button.click()  # Simulate clicking the Explore button\n",
    "\n",
    "        # Step 5: Wait for the Explore page to load (increase the sleep time if necessary)\n",
    "        time.sleep(5)\n",
    "\n",
    "        # Step 6: Extract interest over time data (interest chart)\n",
    "        try:\n",
    "            interest_over_time = driver.find_element(By.CLASS_NAME, 'widget-Timeline')\n",
    "            print(\"Interest Over Time Data:\\n\", interest_over_time.text)\n",
    "        except Exception as e:\n",
    "            print(\"Could not extract interest over time:\", e)\n",
    "\n",
    "        # Step 7: Extract interest by region data\n",
    "        try:\n",
    "            interest_by_region = driver.find_element(By.CLASS_NAME, 'widget-Geography')\n",
    "            print(\"Interest By Region Data:\\n\", interest_by_region.text)\n",
    "        except Exception as e:\n",
    "            print(\"Could not extract interest by region:\", e)\n",
    "\n",
    "    finally:\n",
    "        # Step 8: Close the WebDriver instance\n",
    "        driver.quit()\n",
    "\n",
    "# Run the automation function with a keyword of your choice\n",
    "automate_google_trends(\"machine learning\")  # Example keyword\n"
   ]
  },
  {
   "cell_type": "code",
   "execution_count": null,
   "id": "1021c73c",
   "metadata": {},
   "outputs": [],
   "source": []
  }
 ],
 "metadata": {
  "kernelspec": {
   "display_name": "ding",
   "language": "python",
   "name": "python3"
  },
  "language_info": {
   "codemirror_mode": {
    "name": "ipython",
    "version": 3
   },
   "file_extension": ".py",
   "mimetype": "text/x-python",
   "name": "python",
   "nbconvert_exporter": "python",
   "pygments_lexer": "ipython3",
   "version": "3.13.5"
  }
 },
 "nbformat": 4,
 "nbformat_minor": 5
}
