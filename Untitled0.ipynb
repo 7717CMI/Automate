{
  "nbformat": 4,
  "nbformat_minor": 0,
  "metadata": {
    "colab": {
      "provenance": [],
      "authorship_tag": "ABX9TyND3hidWPY6r9cdQtEiaDup",
      "include_colab_link": true
    },
    "kernelspec": {
      "name": "python3",
      "display_name": "Python 3"
    },
    "language_info": {
      "name": "python"
    }
  },
  "cells": [
    {
      "cell_type": "markdown",
      "metadata": {
        "id": "view-in-github",
        "colab_type": "text"
      },
      "source": [
        "<a href=\"https://colab.research.google.com/github/7717CMI/Automate/blob/main/Untitled0.ipynb\" target=\"_parent\"><img src=\"https://colab.research.google.com/assets/colab-badge.svg\" alt=\"Open In Colab\"/></a>"
      ]
    },
    {
      "cell_type": "code",
      "execution_count": null,
      "metadata": {
        "colab": {
          "base_uri": "https://localhost:8080/",
          "height": 662
        },
        "id": "WloncrFLwJlN",
        "outputId": "ee62d4a1-0e9f-4b93-f21a-bf9a40833737"
      },
      "outputs": [
        {
          "output_type": "stream",
          "name": "stdout",
          "text": [
            "Collecting serpapi\n",
            "  Downloading serpapi-0.1.5-py2.py3-none-any.whl.metadata (10 kB)\n",
            "Requirement already satisfied: pandas in /usr/local/lib/python3.11/dist-packages (2.2.2)\n",
            "Requirement already satisfied: requests in /usr/local/lib/python3.11/dist-packages (from serpapi) (2.32.3)\n",
            "Requirement already satisfied: numpy>=1.23.2 in /usr/local/lib/python3.11/dist-packages (from pandas) (2.0.2)\n",
            "Requirement already satisfied: python-dateutil>=2.8.2 in /usr/local/lib/python3.11/dist-packages (from pandas) (2.9.0.post0)\n",
            "Requirement already satisfied: pytz>=2020.1 in /usr/local/lib/python3.11/dist-packages (from pandas) (2025.2)\n",
            "Requirement already satisfied: tzdata>=2022.7 in /usr/local/lib/python3.11/dist-packages (from pandas) (2025.2)\n",
            "Requirement already satisfied: six>=1.5 in /usr/local/lib/python3.11/dist-packages (from python-dateutil>=2.8.2->pandas) (1.17.0)\n",
            "Requirement already satisfied: charset-normalizer<4,>=2 in /usr/local/lib/python3.11/dist-packages (from requests->serpapi) (3.4.2)\n",
            "Requirement already satisfied: idna<4,>=2.5 in /usr/local/lib/python3.11/dist-packages (from requests->serpapi) (3.10)\n",
            "Requirement already satisfied: urllib3<3,>=1.21.1 in /usr/local/lib/python3.11/dist-packages (from requests->serpapi) (2.4.0)\n",
            "Requirement already satisfied: certifi>=2017.4.17 in /usr/local/lib/python3.11/dist-packages (from requests->serpapi) (2025.4.26)\n",
            "Downloading serpapi-0.1.5-py2.py3-none-any.whl (10 kB)\n",
            "Installing collected packages: serpapi\n",
            "Successfully installed serpapi-0.1.5\n"
          ]
        },
        {
          "output_type": "error",
          "ename": "ImportError",
          "evalue": "cannot import name 'GoogleSearch' from 'serpapi' (/usr/local/lib/python3.11/dist-packages/serpapi/__init__.py)",
          "traceback": [
            "\u001b[0;31m---------------------------------------------------------------------------\u001b[0m",
            "\u001b[0;31mImportError\u001b[0m                               Traceback (most recent call last)",
            "\u001b[0;32m<ipython-input-1-600847747>\u001b[0m in \u001b[0;36m<cell line: 0>\u001b[0;34m()\u001b[0m\n\u001b[1;32m      3\u001b[0m \u001b[0;34m\u001b[0m\u001b[0m\n\u001b[1;32m      4\u001b[0m \u001b[0;32mimport\u001b[0m \u001b[0mpandas\u001b[0m \u001b[0;32mas\u001b[0m \u001b[0mpd\u001b[0m\u001b[0;34m\u001b[0m\u001b[0;34m\u001b[0m\u001b[0m\n\u001b[0;32m----> 5\u001b[0;31m \u001b[0;32mfrom\u001b[0m \u001b[0mserpapi\u001b[0m \u001b[0;32mimport\u001b[0m \u001b[0mGoogleSearch\u001b[0m\u001b[0;34m\u001b[0m\u001b[0;34m\u001b[0m\u001b[0m\n\u001b[0m\u001b[1;32m      6\u001b[0m \u001b[0;34m\u001b[0m\u001b[0m\n\u001b[1;32m      7\u001b[0m \u001b[0;31m# Function to fetch data from Google Trends using SerpAPI\u001b[0m\u001b[0;34m\u001b[0m\u001b[0;34m\u001b[0m\u001b[0m\n",
            "\u001b[0;31mImportError\u001b[0m: cannot import name 'GoogleSearch' from 'serpapi' (/usr/local/lib/python3.11/dist-packages/serpapi/__init__.py)",
            "",
            "\u001b[0;31m---------------------------------------------------------------------------\u001b[0;32m\nNOTE: If your import is failing due to a missing package, you can\nmanually install dependencies using either !pip or !apt.\n\nTo view examples of installing some common dependencies, click the\n\"Open Examples\" button below.\n\u001b[0;31m---------------------------------------------------------------------------\u001b[0m\n"
          ],
          "errorDetails": {
            "actions": [
              {
                "action": "open_url",
                "actionText": "Open Examples",
                "url": "/notebooks/snippets/importing_libraries.ipynb"
              }
            ]
          }
        }
      ],
      "source": []
    },
    {
      "cell_type": "code",
      "source": [],
      "metadata": {
        "colab": {
          "base_uri": "https://localhost:8080/"
        },
        "id": "35Z3f1YqwNYn",
        "outputId": "16a7c2ba-16f6-4385-be35-37cf26a239e9"
      },
      "execution_count": null,
      "outputs": [
        {
          "output_type": "stream",
          "name": "stdout",
          "text": [
            "Found existing installation: serpapi 0.1.5\n",
            "Uninstalling serpapi-0.1.5:\n",
            "  Successfully uninstalled serpapi-0.1.5\n"
          ]
        }
      ]
    },
    {
      "cell_type": "code",
      "source": [
        "!pip install serpapi\n"
      ],
      "metadata": {
        "colab": {
          "base_uri": "https://localhost:8080/"
        },
        "id": "ye9VoI26wdwl",
        "outputId": "920754e5-65b3-44d6-f57f-6eb5180be1f6"
      },
      "execution_count": null,
      "outputs": [
        {
          "output_type": "stream",
          "name": "stdout",
          "text": [
            "Requirement already satisfied: serpapi in /usr/local/lib/python3.11/dist-packages (0.1.5)\n",
            "Requirement already satisfied: requests in /usr/local/lib/python3.11/dist-packages (from serpapi) (2.32.3)\n",
            "Requirement already satisfied: charset-normalizer<4,>=2 in /usr/local/lib/python3.11/dist-packages (from requests->serpapi) (3.4.2)\n",
            "Requirement already satisfied: idna<4,>=2.5 in /usr/local/lib/python3.11/dist-packages (from requests->serpapi) (3.10)\n",
            "Requirement already satisfied: urllib3<3,>=1.21.1 in /usr/local/lib/python3.11/dist-packages (from requests->serpapi) (2.4.0)\n",
            "Requirement already satisfied: certifi>=2017.4.17 in /usr/local/lib/python3.11/dist-packages (from requests->serpapi) (2025.4.26)\n"
          ]
        }
      ]
    },
    {
      "cell_type": "code",
      "source": [
        "# First, uninstall any existing version of serpapi\n",
        "!pip uninstall -y serpapi\n",
        "\n",
        "# Install the latest version of serpapi\n",
        "!pip install serpapi\n",
        "\n",
        "# Now import the correct class for fetching trends data\n",
        "from serpapi import GoogleSearch\n",
        "\n",
        "import pandas as pd\n",
        "\n",
        "# Function to fetch data from Google Trends using SerpAPI\n",
        "def fetch_google_trends(keyword):\n",
        "    params = {\n",
        "        \"q\": keyword,\n",
        "        \"geo\": \"Worldwide\",  # Set the region to Worldwide\n",
        "        \"hl\": \"en-US\",       # Set the language to English (US)\n",
        "        \"time\": \"7d\",        # Set the time range to the last 7 days\n",
        "        \"api_key\": \"your_serpapi_api_key\"  # Replace with your SerpAPI key\n",
        "    }\n",
        "    search = GoogleSearch(params)\n",
        "    results = search.get_dict()  # This will get the trends data as a dictionary\n",
        "    return results\n",
        "\n",
        "# Function to check if Interest Over Time crosses 50\n",
        "def check_interest_over_time(results, keyword):\n",
        "    # Extract \"Interest Over Time\"\n",
        "    interest_over_time = results.get(\"timeline_data\", [])\n",
        "\n",
        "    if not interest_over_time:\n",
        "        return False, None\n",
        "\n",
        "    # Get values of Interest Over Time\n",
        "    values = [entry['value'] for entry in interest_over_time]\n",
        "\n",
        "    # Check if Interest Over Time crosses 50 at least once\n",
        "    if any(value > 50 for value in values):\n",
        "        return True, keyword\n",
        "    return False, None\n",
        "\n",
        "# List of 50 keywords (you can update this list as needed)\n",
        "keywords = [\n",
        "     \"Wearable Technology\", \"Smart Homes\",\n",
        "    \"Edge Computing\", \"Green Building\", \"Space Exploration\", \"Smart Manufacturing\", \"FinTech\",\n",
        "    \"Genomics\", \"Neuroscience\", \"Nanotechnology\", \"Gaming\", \"Voice Technology\", \"Music Streaming\",\n",
        "    \"Social Media Marketing\", \"Electric Bikes\", \"Smart Agriculture\", \"Digital Twins\", \"Smart Grids\",\n",
        "    \"Smart Healthcare\", \"Food Technology\", \"Education Technology\", \"Personalized Medicine\", \"Blockchain Security\"\n",
        "]\n",
        "\n",
        "# List to store keywords that meet the condition\n",
        "keywords_above_50 = []\n",
        "\n",
        "# Process each keyword and check Interest Over Time\n",
        "for keyword in keywords:\n",
        "    results = fetch_google_trends(keyword)\n",
        "    condition_met, keyword_to_store = check_interest_over_time(results, keyword)\n",
        "    if condition_met:\n",
        "        keywords_above_50.append(keyword)\n",
        "\n",
        "# Display keywords that meet the condition\n",
        "print(\"Keywords with Interest Over Time > 50 in the last 7 days (Worldwide):\")\n",
        "for keyword in keywords_above_50:\n",
        "    print(keyword)\n"
      ],
      "metadata": {
        "colab": {
          "base_uri": "https://localhost:8080/",
          "height": 706
        },
        "id": "WjC87pt1wiel",
        "outputId": "0c56f24e-8040-4d4b-fef3-3e42f3826093"
      },
      "execution_count": null,
      "outputs": [
        {
          "output_type": "stream",
          "name": "stdout",
          "text": [
            "Found existing installation: serpapi 0.1.5\n",
            "Uninstalling serpapi-0.1.5:\n",
            "  Successfully uninstalled serpapi-0.1.5\n",
            "Collecting serpapi\n",
            "  Using cached serpapi-0.1.5-py2.py3-none-any.whl.metadata (10 kB)\n",
            "Requirement already satisfied: requests in /usr/local/lib/python3.11/dist-packages (from serpapi) (2.32.3)\n",
            "Requirement already satisfied: charset-normalizer<4,>=2 in /usr/local/lib/python3.11/dist-packages (from requests->serpapi) (3.4.2)\n",
            "Requirement already satisfied: idna<4,>=2.5 in /usr/local/lib/python3.11/dist-packages (from requests->serpapi) (3.10)\n",
            "Requirement already satisfied: urllib3<3,>=1.21.1 in /usr/local/lib/python3.11/dist-packages (from requests->serpapi) (2.4.0)\n",
            "Requirement already satisfied: certifi>=2017.4.17 in /usr/local/lib/python3.11/dist-packages (from requests->serpapi) (2025.4.26)\n",
            "Using cached serpapi-0.1.5-py2.py3-none-any.whl (10 kB)\n",
            "Installing collected packages: serpapi\n",
            "Successfully installed serpapi-0.1.5\n"
          ]
        },
        {
          "output_type": "display_data",
          "data": {
            "application/vnd.colab-display-data+json": {
              "pip_warning": {
                "packages": [
                  "serpapi"
                ]
              },
              "id": "a75c43c8acdf4c7fbc7e357c2132d36f"
            }
          },
          "metadata": {}
        },
        {
          "output_type": "error",
          "ename": "ImportError",
          "evalue": "cannot import name 'GoogleSearch' from 'serpapi' (/usr/local/lib/python3.11/dist-packages/serpapi/__init__.py)",
          "traceback": [
            "\u001b[0;31m---------------------------------------------------------------------------\u001b[0m",
            "\u001b[0;31mImportError\u001b[0m                               Traceback (most recent call last)",
            "\u001b[0;32m<ipython-input-6-1432977537>\u001b[0m in \u001b[0;36m<cell line: 0>\u001b[0;34m()\u001b[0m\n\u001b[1;32m      6\u001b[0m \u001b[0;34m\u001b[0m\u001b[0m\n\u001b[1;32m      7\u001b[0m \u001b[0;31m# Now import the correct class for fetching trends data\u001b[0m\u001b[0;34m\u001b[0m\u001b[0;34m\u001b[0m\u001b[0m\n\u001b[0;32m----> 8\u001b[0;31m \u001b[0;32mfrom\u001b[0m \u001b[0mserpapi\u001b[0m \u001b[0;32mimport\u001b[0m \u001b[0mGoogleSearch\u001b[0m\u001b[0;34m\u001b[0m\u001b[0;34m\u001b[0m\u001b[0m\n\u001b[0m\u001b[1;32m      9\u001b[0m \u001b[0;34m\u001b[0m\u001b[0m\n\u001b[1;32m     10\u001b[0m \u001b[0;32mimport\u001b[0m \u001b[0mpandas\u001b[0m \u001b[0;32mas\u001b[0m \u001b[0mpd\u001b[0m\u001b[0;34m\u001b[0m\u001b[0;34m\u001b[0m\u001b[0m\n",
            "\u001b[0;31mImportError\u001b[0m: cannot import name 'GoogleSearch' from 'serpapi' (/usr/local/lib/python3.11/dist-packages/serpapi/__init__.py)",
            "",
            "\u001b[0;31m---------------------------------------------------------------------------\u001b[0;32m\nNOTE: If your import is failing due to a missing package, you can\nmanually install dependencies using either !pip or !apt.\n\nTo view examples of installing some common dependencies, click the\n\"Open Examples\" button below.\n\u001b[0;31m---------------------------------------------------------------------------\u001b[0m\n"
          ],
          "errorDetails": {
            "actions": [
              {
                "action": "open_url",
                "actionText": "Open Examples",
                "url": "/notebooks/snippets/importing_libraries.ipynb"
              }
            ]
          }
        }
      ]
    },
    {
      "cell_type": "code",
      "source": [
        "# Install required libraries in Google Colab\n",
        "!pip install serpapi pandas requests\n",
        "\n",
        "import pandas as pd\n",
        "import requests\n",
        "\n",
        "# Function to fetch data from Google Trends using SerpAPI directly via HTTP requests\n",
        "def fetch_google_trends(keyword):\n",
        "    # Set up the API endpoint and parameters for SerpAPI's Google Trends API\n",
        "    params = {\n",
        "        \"q\": keyword,                # The search query (keyword)\n",
        "        \"geo\": \"Worldwide\",          # Region (Worldwide)\n",
        "        \"time\": \"7d\",                # Time range (Last 7 days)\n",
        "        \"api_key\": \"a7bfa36977090c156c1becb783a42c6fff3d443a94330794a191c19303f84a48\"  # Replace with your actual SerpAPI API key\n",
        "    }\n",
        "\n",
        "    # Make the request to SerpAPI\n",
        "    url = \"https://serpapi.com/search\"\n",
        "    response = requests.get(url, params=params)\n",
        "\n",
        "    # Check the status code of the response\n",
        "    if response.status_code == 200:\n",
        "        return response.json()  # Return the JSON data if successful\n",
        "    else:\n",
        "        print(f\"Error fetching data: {response.status_code}\")\n",
        "        print(response.text)  # Print the error message for debugging\n",
        "        return None\n",
        "\n",
        "# Function to check if Interest Over Time crosses 50\n",
        "def check_interest_over_time(results, keyword):\n",
        "    # Extract \"Interest Over Time\"\n",
        "    interest_over_time = results.get(\"timeline_data\", [])\n",
        "\n",
        "    if not interest_over_time:\n",
        "        return False, None\n",
        "\n",
        "    # Get values of Interest Over Time\n",
        "    values = [entry['value'] for entry in interest_over_time]\n",
        "\n",
        "    # Check if Interest Over Time crosses 50 at least once\n",
        "    if any(value > 50 for value in values):\n",
        "        return True, keyword\n",
        "    return False, None\n",
        "\n",
        "# List of 50 keywords (you can update this list as needed)\n",
        "keywords = [\n",
        "    \"machine \", \"learning\", \"artificial intelligence\"\n",
        "]\n",
        "\n",
        "# List to store keywords that meet the condition\n",
        "keywords_above_50 = []\n",
        "\n",
        "# Process each keyword and check Interest Over Time\n",
        "for keyword in keywords:\n",
        "    results = fetch_google_trends(keyword)\n",
        "    if results:  # Proceed only if results are returned\n",
        "        condition_met, keyword_to_store = check_interest_over_time(results, keyword)\n",
        "        if condition_met:\n",
        "            keywords_above_50.append(keyword)\n",
        "\n",
        "# Display keywords that meet the condition\n",
        "print(\"Keywords with Interest Over Time > 50 in the last 7 days (Worldwide):\")\n",
        "for keyword in keywords_above_50:\n",
        "    print(keyword)\n"
      ],
      "metadata": {
        "colab": {
          "base_uri": "https://localhost:8080/"
        },
        "id": "Ut6VAoGRwt92",
        "outputId": "a7a95443-7173-4fe6-9080-fc8787aa7cae"
      },
      "execution_count": null,
      "outputs": [
        {
          "output_type": "stream",
          "name": "stdout",
          "text": [
            "Requirement already satisfied: serpapi in /usr/local/lib/python3.11/dist-packages (0.1.5)\n",
            "Requirement already satisfied: pandas in /usr/local/lib/python3.11/dist-packages (2.2.2)\n",
            "Requirement already satisfied: requests in /usr/local/lib/python3.11/dist-packages (2.32.3)\n",
            "Requirement already satisfied: numpy>=1.23.2 in /usr/local/lib/python3.11/dist-packages (from pandas) (2.0.2)\n",
            "Requirement already satisfied: python-dateutil>=2.8.2 in /usr/local/lib/python3.11/dist-packages (from pandas) (2.9.0.post0)\n",
            "Requirement already satisfied: pytz>=2020.1 in /usr/local/lib/python3.11/dist-packages (from pandas) (2025.2)\n",
            "Requirement already satisfied: tzdata>=2022.7 in /usr/local/lib/python3.11/dist-packages (from pandas) (2025.2)\n",
            "Requirement already satisfied: charset-normalizer<4,>=2 in /usr/local/lib/python3.11/dist-packages (from requests) (3.4.2)\n",
            "Requirement already satisfied: idna<4,>=2.5 in /usr/local/lib/python3.11/dist-packages (from requests) (3.10)\n",
            "Requirement already satisfied: urllib3<3,>=1.21.1 in /usr/local/lib/python3.11/dist-packages (from requests) (2.4.0)\n",
            "Requirement already satisfied: certifi>=2017.4.17 in /usr/local/lib/python3.11/dist-packages (from requests) (2025.4.26)\n",
            "Requirement already satisfied: six>=1.5 in /usr/local/lib/python3.11/dist-packages (from python-dateutil>=2.8.2->pandas) (1.17.0)\n",
            "Keywords with Interest Over Time > 50 in the last 7 days (Worldwide):\n"
          ]
        }
      ]
    },
    {
      "cell_type": "code",
      "source": [
        "# Install required libraries in Google Colab\n",
        "!pip install serpapi pandas requests\n",
        "\n",
        "import pandas as pd\n",
        "import requests\n",
        "import time  # For adding delays between requests\n",
        "\n",
        "# Function to fetch data from Google Trends using SerpAPI directly via HTTP requests\n",
        "def fetch_google_trends(keyword):\n",
        "    params = {\n",
        "        \"q\": keyword,  # The search query (keyword)\n",
        "        \"geo\": \"Worldwide\",  # Region (Worldwide)\n",
        "        \"time\": \"7d\",  # Time range (Last 7 days)\n",
        "        \"api_key\": \"a7bfa36977090c156c1becb783a42c6fff3d443a94330794a191c19303f84a48\"  # Replace with your actual SerpAPI API key\n",
        "    }\n",
        "\n",
        "    # Make the request to SerpAPI\n",
        "    url = \"https://serpapi.com/search\"\n",
        "    response = requests.get(url, params=params)\n",
        "\n",
        "    # Check the status code of the response\n",
        "    if response.status_code == 200:\n",
        "        return response.json()  # Return the JSON data if successful\n",
        "    else:\n",
        "        print(f\"Error fetching data for {keyword}: {response.status_code}\")\n",
        "        print(response.text)  # Print the error message for debugging\n",
        "        return None\n",
        "\n",
        "# Function to check if Interest Over Time crosses 50\n",
        "def check_interest_over_time(results, keyword):\n",
        "    if not results or 'timeline_data' not in results:\n",
        "        return False, None  # Handle missing or incomplete data\n",
        "\n",
        "    # Extract \"Interest Over Time\"\n",
        "    interest_over_time = results.get(\"timeline_data\", [])\n",
        "\n",
        "    if not interest_over_time:\n",
        "        return False, None\n",
        "\n",
        "    # Get values of Interest Over Time\n",
        "    values = [entry['value'] for entry in interest_over_time]\n",
        "\n",
        "    # Check if Interest Over Time crosses 50 at least once\n",
        "    if any(value > 50 for value in values):\n",
        "        return True, keyword\n",
        "    return False, None\n",
        "\n",
        "# List of 50 keywords (you can update this list as needed)\n",
        "keywords = [\n",
        "  \"machine learning\", \"artificial intelligence\", \"iraq\"\n",
        "]\n",
        "\n",
        "# List to store keywords that meet the condition\n",
        "keywords_above_50 = []\n",
        "\n",
        "# Process each keyword and check Interest Over Time\n",
        "for idx, keyword in enumerate(keywords):\n",
        "    # Fetch Google Trends data for the keyword\n",
        "    results = fetch_google_trends(keyword)\n",
        "\n",
        "    if results:  # Proceed only if results are returned\n",
        "        condition_met, keyword_to_store = check_interest_over_time(results, keyword)\n",
        "        if condition_met:\n",
        "            keywords_above_50.append(keyword)\n",
        "\n",
        "    # Adding a delay to avoid hitting the API rate limit\n",
        "    # Adjust the delay time if needed based on your plan\n",
        "    if idx % 5 == 0:  # Adding a 5-second delay after every 5 requests\n",
        "        time.sleep(5)\n",
        "\n",
        "# Display keywords that meet the condition\n",
        "print(\"Keywords with Interest Over Time > 50 in the last 7 days (Worldwide):\")\n",
        "for keyword in keywords_above_50:\n",
        "    print(keyword)\n"
      ],
      "metadata": {
        "id": "I-VgLrq-xxpA",
        "colab": {
          "base_uri": "https://localhost:8080/"
        },
        "outputId": "6d825f2c-829a-40a9-ebb2-d17c5c24daa9"
      },
      "execution_count": 18,
      "outputs": [
        {
          "output_type": "stream",
          "name": "stdout",
          "text": [
            "Requirement already satisfied: serpapi in /usr/local/lib/python3.11/dist-packages (0.1.5)\n",
            "Requirement already satisfied: pandas in /usr/local/lib/python3.11/dist-packages (2.2.2)\n",
            "Requirement already satisfied: requests in /usr/local/lib/python3.11/dist-packages (2.32.3)\n",
            "Requirement already satisfied: numpy>=1.23.2 in /usr/local/lib/python3.11/dist-packages (from pandas) (2.0.2)\n",
            "Requirement already satisfied: python-dateutil>=2.8.2 in /usr/local/lib/python3.11/dist-packages (from pandas) (2.9.0.post0)\n",
            "Requirement already satisfied: pytz>=2020.1 in /usr/local/lib/python3.11/dist-packages (from pandas) (2025.2)\n",
            "Requirement already satisfied: tzdata>=2022.7 in /usr/local/lib/python3.11/dist-packages (from pandas) (2025.2)\n",
            "Requirement already satisfied: charset-normalizer<4,>=2 in /usr/local/lib/python3.11/dist-packages (from requests) (3.4.2)\n",
            "Requirement already satisfied: idna<4,>=2.5 in /usr/local/lib/python3.11/dist-packages (from requests) (3.10)\n",
            "Requirement already satisfied: urllib3<3,>=1.21.1 in /usr/local/lib/python3.11/dist-packages (from requests) (2.4.0)\n",
            "Requirement already satisfied: certifi>=2017.4.17 in /usr/local/lib/python3.11/dist-packages (from requests) (2025.4.26)\n",
            "Requirement already satisfied: six>=1.5 in /usr/local/lib/python3.11/dist-packages (from python-dateutil>=2.8.2->pandas) (1.17.0)\n",
            "Keywords with Interest Over Time > 50 in the last 7 days (Worldwide):\n"
          ]
        }
      ]
    },
    {
      "cell_type": "code",
      "source": [
        "import requests\n",
        "import json\n",
        "\n",
        "# Function to fetch data from Google Trends using SerpAPI\n",
        "def fetch_google_trends_and_save(keyword, api_key):\n",
        "    params = {\n",
        "        \"q\": keyword,                # The search query (keyword)\n",
        "        \"geo\": \"Worldwide\",          # Region (Worldwide)\n",
        "        \"time\": \"7d\",                # Time range (Last 7 days)\n",
        "        \"api_key\": api_key           # Replace with your actual SerpAPI API key\n",
        "    }\n",
        "\n",
        "    # Make the request to SerpAPI\n",
        "    url = \"https://serpapi.com/search?engine=google_trends\"\n",
        "    response = requests.get(url, params=params)\n",
        "\n",
        "    # If the request was successful (status 200), save the JSON to a file\n",
        "    if response.status_code == 200:\n",
        "        json_data = response.json()\n",
        "        # Save the JSON response to a file\n",
        "        with open(f\"{keyword}_google_trends.json\", \"w\") as f:\n",
        "            json.dump(json_data, f, indent=4)\n",
        "        print(f\"Data for {keyword} has been saved as a JSON file.\")\n",
        "        return json_data\n",
        "    else:\n",
        "        print(f\"Error fetching data for {keyword}: {response.status_code}\")\n",
        "        return None\n",
        "\n",
        "# Function to check if Interest Over Time crosses 50\n",
        "def check_interest_over_time(results, keyword):\n",
        "    # Extract \"Interest Over Time\"\n",
        "    interest_over_time = results.get(\"timeline_data\", [])\n",
        "\n",
        "    if not interest_over_time:\n",
        "        return False, None  # Handle missing or incomplete data\n",
        "\n",
        "    # Get values of Interest Over Time\n",
        "    values = [entry['value'] for entry in interest_over_time]\n",
        "\n",
        "    # Check if Interest Over Time crosses 50 at least once\n",
        "    if any(value > 50 for value in values):\n",
        "        return True, keyword\n",
        "    return False, None\n",
        "\n",
        "# Example usage\n",
        "api_key = \"a7bfa36977090c156c1becb783a42c6fff3d443a94330794a191c19303f84a48\"  # Replace with your actual SerpAPI API key\n",
        "\n",
        "# List of keywords to process\n",
        "keywords = [\n",
        "     \"Smart Healthcare\",\n",
        "]\n",
        "\n",
        "# List to store keywords that meet the condition\n",
        "keywords_above_50 = []\n",
        "\n",
        "# Process each keyword and check Interest Over Time\n",
        "for keyword in keywords:\n",
        "    results = fetch_google_trends_and_save(keyword, api_key)\n",
        "    if results:  # Proceed only if results are returned\n",
        "        condition_met, keyword_to_store = check_interest_over_time(results, keyword)\n",
        "        if condition_met:\n",
        "            keywords_above_50.append(keyword)\n",
        "\n",
        "# Display keywords that meet the condition\n",
        "print(\"Keywords with Interest Over Time > 50 in the last 7 days (Worldwide):\")\n",
        "for keyword in keywords_above_50:\n",
        "    print(keyword)\n"
      ],
      "metadata": {
        "colab": {
          "base_uri": "https://localhost:8080/"
        },
        "id": "O-1qrqoMAObh",
        "outputId": "84b173a8-04d7-4005-a0ce-46b30ab12c56"
      },
      "execution_count": 21,
      "outputs": [
        {
          "output_type": "stream",
          "name": "stdout",
          "text": [
            "Error fetching data for Smart Healthcare: 400\n",
            "Keywords with Interest Over Time > 50 in the last 7 days (Worldwide):\n"
          ]
        }
      ]
    },
    {
      "cell_type": "code",
      "source": [
        "import requests\n",
        "\n",
        "# Function to fetch data from Google Trends using SerpAPI\n",
        "def fetch_google_trends(keyword, api_key):\n",
        "    # Set up the parameters for the SerpAPI request\n",
        "    params = {\n",
        "        \"q\": keyword,                # The search query (keyword)\n",
        "        \"geo\": \"Worldwide\",          # Region (Worldwide)\n",
        "        \"time\": \"7d\",                # Time range (Last 7 days)\n",
        "        \"engine\": \"google_trends\",   # Use the Google Trends engine\n",
        "        \"api_key\": api_key,          # Your actual SerpAPI API key\n",
        "        \"output\": \"json\"             # Get structured JSON results\n",
        "    }\n",
        "\n",
        "    # Make the request to SerpAPI\n",
        "    url = \"https://serpapi.com/search\"\n",
        "    response = requests.get(url, params=params)\n",
        "\n",
        "    # Check the status code of the response\n",
        "    if response.status_code == 200:\n",
        "        return response.json()  # Return the JSON data if successful\n",
        "    else:\n",
        "        print(f\"Error fetching data for {keyword}: {response.status_code}\")\n",
        "        return None\n",
        "\n",
        "# Example usage\n",
        "api_key = \"a7bfa36977090c156c1becb783a42c6fff3d443a94330794a191c19303f84a48\"  # Replace with your actual SerpAPI API key\n",
        "keyword = \"Artificial Intelligence\"\n",
        "results = fetch_google_trends(keyword, api_key)\n",
        "\n",
        "# Print the JSON result\n",
        "if results:\n",
        "    print(results)\n",
        "else:\n",
        "    print(f\"No results found for {keyword}.\")\n"
      ],
      "metadata": {
        "colab": {
          "base_uri": "https://localhost:8080/",
          "height": 347
        },
        "id": "06c6DKcuDqmJ",
        "outputId": "233366a4-c080-4237-dd9f-7eab505b8195"
      },
      "execution_count": 31,
      "outputs": [
        {
          "output_type": "error",
          "ename": "AttributeError",
          "evalue": "'str' object has no attribute 'status_code'",
          "traceback": [
            "\u001b[0;31m---------------------------------------------------------------------------\u001b[0m",
            "\u001b[0;31mAttributeError\u001b[0m                            Traceback (most recent call last)",
            "\u001b[0;32m<ipython-input-31-2018926186>\u001b[0m in \u001b[0;36m<cell line: 0>\u001b[0;34m()\u001b[0m\n\u001b[1;32m     27\u001b[0m \u001b[0mapi_key\u001b[0m \u001b[0;34m=\u001b[0m \u001b[0;34m\"a7bfa36977090c156c1becb783a42c6fff3d443a94330794a191c19303f84a48\"\u001b[0m  \u001b[0;31m# Replace with your actual SerpAPI API key\u001b[0m\u001b[0;34m\u001b[0m\u001b[0;34m\u001b[0m\u001b[0m\n\u001b[1;32m     28\u001b[0m \u001b[0mkeyword\u001b[0m \u001b[0;34m=\u001b[0m \u001b[0;34m\"Artificial+Intelligence\"\u001b[0m\u001b[0;34m\u001b[0m\u001b[0;34m\u001b[0m\u001b[0m\n\u001b[0;32m---> 29\u001b[0;31m \u001b[0mresults\u001b[0m \u001b[0;34m=\u001b[0m \u001b[0mfetch_google_trends\u001b[0m\u001b[0;34m(\u001b[0m\u001b[0mkeyword\u001b[0m\u001b[0;34m,\u001b[0m \u001b[0mapi_key\u001b[0m\u001b[0;34m)\u001b[0m\u001b[0;34m\u001b[0m\u001b[0;34m\u001b[0m\u001b[0m\n\u001b[0m\u001b[1;32m     30\u001b[0m \u001b[0;34m\u001b[0m\u001b[0m\n\u001b[1;32m     31\u001b[0m \u001b[0;31m# Print the JSON result\u001b[0m\u001b[0;34m\u001b[0m\u001b[0;34m\u001b[0m\u001b[0m\n",
            "\u001b[0;32m<ipython-input-31-2018926186>\u001b[0m in \u001b[0;36mfetch_google_trends\u001b[0;34m(keyword, api_key)\u001b[0m\n\u001b[1;32m     18\u001b[0m \u001b[0;34m\u001b[0m\u001b[0m\n\u001b[1;32m     19\u001b[0m     \u001b[0;31m# Check the status code of the response\u001b[0m\u001b[0;34m\u001b[0m\u001b[0;34m\u001b[0m\u001b[0m\n\u001b[0;32m---> 20\u001b[0;31m     \u001b[0;32mif\u001b[0m \u001b[0mresponse\u001b[0m\u001b[0;34m.\u001b[0m\u001b[0mstatus_code\u001b[0m \u001b[0;34m==\u001b[0m \u001b[0;36m200\u001b[0m\u001b[0;34m:\u001b[0m\u001b[0;34m\u001b[0m\u001b[0;34m\u001b[0m\u001b[0m\n\u001b[0m\u001b[1;32m     21\u001b[0m         \u001b[0;32mreturn\u001b[0m \u001b[0mresponse\u001b[0m\u001b[0;34m.\u001b[0m\u001b[0mjson\u001b[0m\u001b[0;34m(\u001b[0m\u001b[0;34m)\u001b[0m  \u001b[0;31m# Return the JSON data if successful\u001b[0m\u001b[0;34m\u001b[0m\u001b[0;34m\u001b[0m\u001b[0m\n\u001b[1;32m     22\u001b[0m     \u001b[0;32melse\u001b[0m\u001b[0;34m:\u001b[0m\u001b[0;34m\u001b[0m\u001b[0;34m\u001b[0m\u001b[0m\n",
            "\u001b[0;31mAttributeError\u001b[0m: 'str' object has no attribute 'status_code'"
          ]
        }
      ]
    },
    {
      "cell_type": "code",
      "source": [
        "def fetch_google_trends(keyword, api_key):\n",
        "    # Set up the parameters for the SerpAPI request\n",
        "    params = {\n",
        "        \"q\": keyword,                # The search query (keyword)\n",
        "        \"geo\": \"Worldwide\",          # Region (Worldwide)\n",
        "        \"time\": \"7d\",                # Time range (Last 7 days)\n",
        "        \"engine\": \"google_trends\",   # Use the Google Trends engine\n",
        "        \"api_key\": api_key,          # Your actual SerpAPI API key\n",
        "        \"output\": \"json\"             # Get structured JSON results\n",
        "    }\n",
        "\n",
        "    # Make the request to SerpAPI\n",
        "    url = \"https://serpapi.com/search\"\n",
        "    response = requests.get(url, params=params)\n",
        "    print(e)"
      ],
      "metadata": {
        "id": "O3wZPnjeNbau"
      },
      "execution_count": 29,
      "outputs": []
    },
    {
      "cell_type": "code",
      "source": [
        "fetch_google_trends(\"hey\",\"45rfr5qr\")"
      ],
      "metadata": {
        "colab": {
          "base_uri": "https://localhost:8080/"
        },
        "id": "f77a_2FRPG5x",
        "outputId": "eb97815e-91e3-43fb-f7d9-478c08d9e17f"
      },
      "execution_count": 30,
      "outputs": [
        {
          "output_type": "stream",
          "name": "stdout",
          "text": [
            "<Response [401]>\n"
          ]
        }
      ]
    },
    {
      "cell_type": "code",
      "source": [],
      "metadata": {
        "id": "jyVkXaU9POVF"
      },
      "execution_count": null,
      "outputs": []
    }
  ]
}